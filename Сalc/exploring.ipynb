{
 "cells": [
  {
   "cell_type": "markdown",
   "metadata": {},
   "source": [
    "# OQD Compiler:\n",
    "\n",
    "The framework consists of several key components:\n",
    "\n",
    "- **Interfaces**: Define the quantum programming models\n",
    "- **Intermediate Representations (IRs)**: Convert between different levels of abstraction\n",
    "- **Compiler**: Contains transformation passes to optimize and convert between representations\n",
    "- **Backend**: Executes quantum programs on simulators or hardware"
   ]
  },
  {
   "cell_type": "code",
   "execution_count": 21,
   "metadata": {},
   "outputs": [
    {
     "data": {
      "text/html": [
       "<pre style=\"white-space:pre;overflow-x:auto;line-height:normal;font-family:Menlo,'DejaVu Sans Mono',consolas,'Courier New',monospace\"><span style=\"font-weight: bold\">[</span>\n",
       "    <span style=\"color: #008000; text-decoration-color: #008000\">'__all__'</span>,\n",
       "    <span style=\"color: #008000; text-decoration-color: #008000\">'__builtins__'</span>,\n",
       "    <span style=\"color: #008000; text-decoration-color: #008000\">'__cached__'</span>,\n",
       "    <span style=\"color: #008000; text-decoration-color: #008000\">'__doc__'</span>,\n",
       "    <span style=\"color: #008000; text-decoration-color: #008000\">'__file__'</span>,\n",
       "    <span style=\"color: #008000; text-decoration-color: #008000\">'__loader__'</span>,\n",
       "    <span style=\"color: #008000; text-decoration-color: #008000\">'__name__'</span>,\n",
       "    <span style=\"color: #008000; text-decoration-color: #008000\">'__package__'</span>,\n",
       "    <span style=\"color: #008000; text-decoration-color: #008000\">'__path__'</span>,\n",
       "    <span style=\"color: #008000; text-decoration-color: #008000\">'__spec__'</span>,\n",
       "    <span style=\"color: #008000; text-decoration-color: #008000\">'backend'</span>,\n",
       "    <span style=\"color: #008000; text-decoration-color: #008000\">'compiler'</span>,\n",
       "    <span style=\"color: #008000; text-decoration-color: #008000\">'interface'</span>\n",
       "<span style=\"font-weight: bold\">]</span>\n",
       "</pre>\n"
      ],
      "text/plain": [
       "\u001b[1m[\u001b[0m\n",
       "    \u001b[32m'__all__'\u001b[0m,\n",
       "    \u001b[32m'__builtins__'\u001b[0m,\n",
       "    \u001b[32m'__cached__'\u001b[0m,\n",
       "    \u001b[32m'__doc__'\u001b[0m,\n",
       "    \u001b[32m'__file__'\u001b[0m,\n",
       "    \u001b[32m'__loader__'\u001b[0m,\n",
       "    \u001b[32m'__name__'\u001b[0m,\n",
       "    \u001b[32m'__package__'\u001b[0m,\n",
       "    \u001b[32m'__path__'\u001b[0m,\n",
       "    \u001b[32m'__spec__'\u001b[0m,\n",
       "    \u001b[32m'backend'\u001b[0m,\n",
       "    \u001b[32m'compiler'\u001b[0m,\n",
       "    \u001b[32m'interface'\u001b[0m\n",
       "\u001b[1m]\u001b[0m\n"
      ]
     },
     "metadata": {},
     "output_type": "display_data"
    }
   ],
   "source": [
    "import oqd_core\n",
    "from rich import print as pprint\n",
    "\n",
    "pprint(dir(oqd_core))"
   ]
  },
  {
   "cell_type": "code",
   "execution_count": 22,
   "metadata": {},
   "outputs": [
    {
     "data": {
      "text/html": [
       "<pre style=\"white-space:pre;overflow-x:auto;line-height:normal;font-family:Menlo,'DejaVu Sans Mono',consolas,'Courier New',monospace\"><span style=\"color: #800080; text-decoration-color: #800080; font-weight: bold\">PauliX</span><span style=\"font-weight: bold\">(</span><span style=\"color: #808000; text-decoration-color: #808000\">class_</span>=<span style=\"color: #008000; text-decoration-color: #008000\">'PauliX'</span><span style=\"font-weight: bold\">)</span>\n",
       "</pre>\n"
      ],
      "text/plain": [
       "\u001b[1;35mPauliX\u001b[0m\u001b[1m(\u001b[0m\u001b[33mclass_\u001b[0m=\u001b[32m'PauliX'\u001b[0m\u001b[1m)\u001b[0m\n"
      ]
     },
     "metadata": {},
     "output_type": "display_data"
    },
    {
     "data": {
      "text/html": [
       "<pre style=\"white-space:pre;overflow-x:auto;line-height:normal;font-family:Menlo,'DejaVu Sans Mono',consolas,'Courier New',monospace\"><span style=\"color: #800080; text-decoration-color: #800080; font-weight: bold\">PauliY</span><span style=\"font-weight: bold\">(</span><span style=\"color: #808000; text-decoration-color: #808000\">class_</span>=<span style=\"color: #008000; text-decoration-color: #008000\">'PauliY'</span><span style=\"font-weight: bold\">)</span>\n",
       "</pre>\n"
      ],
      "text/plain": [
       "\u001b[1;35mPauliY\u001b[0m\u001b[1m(\u001b[0m\u001b[33mclass_\u001b[0m=\u001b[32m'PauliY'\u001b[0m\u001b[1m)\u001b[0m\n"
      ]
     },
     "metadata": {},
     "output_type": "display_data"
    },
    {
     "data": {
      "text/html": [
       "<pre style=\"white-space:pre;overflow-x:auto;line-height:normal;font-family:Menlo,'DejaVu Sans Mono',consolas,'Courier New',monospace\"><span style=\"color: #800080; text-decoration-color: #800080; font-weight: bold\">PauliZ</span><span style=\"font-weight: bold\">(</span><span style=\"color: #808000; text-decoration-color: #808000\">class_</span>=<span style=\"color: #008000; text-decoration-color: #008000\">'PauliZ'</span><span style=\"font-weight: bold\">)</span>\n",
       "</pre>\n"
      ],
      "text/plain": [
       "\u001b[1;35mPauliZ\u001b[0m\u001b[1m(\u001b[0m\u001b[33mclass_\u001b[0m=\u001b[32m'PauliZ'\u001b[0m\u001b[1m)\u001b[0m\n"
      ]
     },
     "metadata": {},
     "output_type": "display_data"
    },
    {
     "data": {
      "text/html": [
       "<pre style=\"white-space:pre;overflow-x:auto;line-height:normal;font-family:Menlo,'DejaVu Sans Mono',consolas,'Courier New',monospace\"><span style=\"color: #800080; text-decoration-color: #800080; font-weight: bold\">Identity</span><span style=\"font-weight: bold\">(</span><span style=\"color: #808000; text-decoration-color: #808000\">class_</span>=<span style=\"color: #008000; text-decoration-color: #008000\">'Identity'</span><span style=\"font-weight: bold\">)</span>\n",
       "</pre>\n"
      ],
      "text/plain": [
       "\u001b[1;35mIdentity\u001b[0m\u001b[1m(\u001b[0m\u001b[33mclass_\u001b[0m=\u001b[32m'Identity'\u001b[0m\u001b[1m)\u001b[0m\n"
      ]
     },
     "metadata": {},
     "output_type": "display_data"
    },
    {
     "data": {
      "text/html": [
       "<pre style=\"white-space:pre;overflow-x:auto;line-height:normal;font-family:Menlo,'DejaVu Sans Mono',consolas,'Courier New',monospace\"><span style=\"color: #800080; text-decoration-color: #800080; font-weight: bold\">PauliI</span><span style=\"font-weight: bold\">(</span><span style=\"color: #808000; text-decoration-color: #808000\">class_</span>=<span style=\"color: #008000; text-decoration-color: #008000\">'PauliI'</span><span style=\"font-weight: bold\">)</span>\n",
       "</pre>\n"
      ],
      "text/plain": [
       "\u001b[1;35mPauliI\u001b[0m\u001b[1m(\u001b[0m\u001b[33mclass_\u001b[0m=\u001b[32m'PauliI'\u001b[0m\u001b[1m)\u001b[0m\n"
      ]
     },
     "metadata": {},
     "output_type": "display_data"
    }
   ],
   "source": [
    "from oqd_core.interface.analog.operator import PauliX, PauliY, PauliZ, Identity, PauliI\n",
    "\n",
    "X = PauliX()\n",
    "Y = PauliY()\n",
    "Z = PauliZ()\n",
    "I = Identity()\n",
    "I2 = PauliI()\n",
    "\n",
    "pprint(X)\n",
    "pprint(Y)\n",
    "pprint(Z)\n",
    "pprint(I)\n",
    "pprint(I2)"
   ]
  },
  {
   "cell_type": "code",
   "execution_count": 23,
   "metadata": {},
   "outputs": [
    {
     "data": {
      "text/html": [
       "<pre style=\"white-space:pre;overflow-x:auto;line-height:normal;font-family:Menlo,'DejaVu Sans Mono',consolas,'Courier New',monospace\"><span style=\"color: #800080; text-decoration-color: #800080; font-weight: bold\">OperatorAdd</span><span style=\"font-weight: bold\">(</span>\n",
       "    <span style=\"color: #808000; text-decoration-color: #808000\">class_</span>=<span style=\"color: #008000; text-decoration-color: #008000\">'OperatorAdd'</span>,\n",
       "    <span style=\"color: #808000; text-decoration-color: #808000\">op1</span>=<span style=\"color: #800080; text-decoration-color: #800080; font-weight: bold\">OperatorKron</span><span style=\"font-weight: bold\">(</span><span style=\"color: #808000; text-decoration-color: #808000\">class_</span>=<span style=\"color: #008000; text-decoration-color: #008000\">'OperatorKron'</span>, <span style=\"color: #808000; text-decoration-color: #808000\">op1</span>=<span style=\"color: #800080; text-decoration-color: #800080; font-weight: bold\">PauliX</span><span style=\"font-weight: bold\">(</span><span style=\"color: #808000; text-decoration-color: #808000\">class_</span>=<span style=\"color: #008000; text-decoration-color: #008000\">'PauliX'</span><span style=\"font-weight: bold\">)</span>, <span style=\"color: #808000; text-decoration-color: #808000\">op2</span>=<span style=\"color: #800080; text-decoration-color: #800080; font-weight: bold\">PauliX</span><span style=\"font-weight: bold\">(</span><span style=\"color: #808000; text-decoration-color: #808000\">class_</span>=<span style=\"color: #008000; text-decoration-color: #008000\">'PauliX'</span><span style=\"font-weight: bold\">))</span>,\n",
       "    <span style=\"color: #808000; text-decoration-color: #808000\">op2</span>=<span style=\"color: #800080; text-decoration-color: #800080; font-weight: bold\">OperatorKron</span><span style=\"font-weight: bold\">(</span><span style=\"color: #808000; text-decoration-color: #808000\">class_</span>=<span style=\"color: #008000; text-decoration-color: #008000\">'OperatorKron'</span>, <span style=\"color: #808000; text-decoration-color: #808000\">op1</span>=<span style=\"color: #800080; text-decoration-color: #800080; font-weight: bold\">PauliZ</span><span style=\"font-weight: bold\">(</span><span style=\"color: #808000; text-decoration-color: #808000\">class_</span>=<span style=\"color: #008000; text-decoration-color: #008000\">'PauliZ'</span><span style=\"font-weight: bold\">)</span>, <span style=\"color: #808000; text-decoration-color: #808000\">op2</span>=<span style=\"color: #800080; text-decoration-color: #800080; font-weight: bold\">PauliZ</span><span style=\"font-weight: bold\">(</span><span style=\"color: #808000; text-decoration-color: #808000\">class_</span>=<span style=\"color: #008000; text-decoration-color: #008000\">'PauliZ'</span><span style=\"font-weight: bold\">))</span>\n",
       "<span style=\"font-weight: bold\">)</span>\n",
       "</pre>\n"
      ],
      "text/plain": [
       "\u001b[1;35mOperatorAdd\u001b[0m\u001b[1m(\u001b[0m\n",
       "    \u001b[33mclass_\u001b[0m=\u001b[32m'OperatorAdd'\u001b[0m,\n",
       "    \u001b[33mop1\u001b[0m=\u001b[1;35mOperatorKron\u001b[0m\u001b[1m(\u001b[0m\u001b[33mclass_\u001b[0m=\u001b[32m'OperatorKron'\u001b[0m, \u001b[33mop1\u001b[0m=\u001b[1;35mPauliX\u001b[0m\u001b[1m(\u001b[0m\u001b[33mclass_\u001b[0m=\u001b[32m'PauliX'\u001b[0m\u001b[1m)\u001b[0m, \u001b[33mop2\u001b[0m=\u001b[1;35mPauliX\u001b[0m\u001b[1m(\u001b[0m\u001b[33mclass_\u001b[0m=\u001b[32m'PauliX'\u001b[0m\u001b[1m)\u001b[0m\u001b[1m)\u001b[0m,\n",
       "    \u001b[33mop2\u001b[0m=\u001b[1;35mOperatorKron\u001b[0m\u001b[1m(\u001b[0m\u001b[33mclass_\u001b[0m=\u001b[32m'OperatorKron'\u001b[0m, \u001b[33mop1\u001b[0m=\u001b[1;35mPauliZ\u001b[0m\u001b[1m(\u001b[0m\u001b[33mclass_\u001b[0m=\u001b[32m'PauliZ'\u001b[0m\u001b[1m)\u001b[0m, \u001b[33mop2\u001b[0m=\u001b[1;35mPauliZ\u001b[0m\u001b[1m(\u001b[0m\u001b[33mclass_\u001b[0m=\u001b[32m'PauliZ'\u001b[0m\u001b[1m)\u001b[0m\u001b[1m)\u001b[0m\n",
       "\u001b[1m)\u001b[0m\n"
      ]
     },
     "metadata": {},
     "output_type": "display_data"
    },
    {
     "data": {
      "text/html": [
       "<pre style=\"white-space:pre;overflow-x:auto;line-height:normal;font-family:Menlo,'DejaVu Sans Mono',consolas,'Courier New',monospace\"><span style=\"color: #800080; text-decoration-color: #800080; font-style: italic\">None</span>\n",
       "</pre>\n"
      ],
      "text/plain": [
       "\u001b[3;35mNone\u001b[0m\n"
      ]
     },
     "metadata": {},
     "output_type": "display_data"
    }
   ],
   "source": [
    "from oqd_core.interface.analog import AnalogCircuit as AC, AnalogGate as AG\n",
    "\n",
    "\"\"\"\n",
    "This script demonstrates the initialization and evolution of an analog circuit using the oqd_core library.\n",
    "\n",
    "Imports:\n",
    "\n",
    "Variables:\n",
    "    hamiltonian (np.ndarray): The Hamiltonian matrix representing the system's energy.\n",
    "    gate (AnalogGate): An analog gate initialized with the Hamiltonian.\n",
    "    circuit (AnalogCircuit): An analog circuit instance.\n",
    "\n",
    "Steps:\n",
    "    1. Define the Hamiltonian matrix using Pauli matrices X and Z.\n",
    "    2. Initialize an AnalogGate with the Hamiltonian.\n",
    "    3. Create an AnalogCircuit instance.\n",
    "    4. Initialize the circuit.\n",
    "    5. Evolve the circuit using the gate for a specified duration.\n",
    "    6. Measure the state of the circuit.\n",
    "\"\"\"\n",
    "\n",
    "hamiltonian = X @ X + Z @ Z\n",
    "pprint(hamiltonian)\n",
    "\n",
    "gate = AG(hamiltonian=hamiltonian)\n",
    "\n",
    "circuit = AC()\n",
    "circuit.initialize()\n",
    "circuit.evolve(gate, duration=1)\n",
    "pprint(circuit.measure())"
   ]
  },
  {
   "cell_type": "markdown",
   "metadata": {},
   "source": [
    "Mathematical Expressions"
   ]
  },
  {
   "cell_type": "code",
   "execution_count": 24,
   "metadata": {},
   "outputs": [
    {
     "data": {
      "text/html": [
       "<pre style=\"white-space:pre;overflow-x:auto;line-height:normal;font-family:Menlo,'DejaVu Sans Mono',consolas,'Courier New',monospace\"><span style=\"color: #800080; text-decoration-color: #800080; font-weight: bold\">MathAdd</span><span style=\"font-weight: bold\">(</span>\n",
       "    <span style=\"color: #808000; text-decoration-color: #808000\">class_</span>=<span style=\"color: #008000; text-decoration-color: #008000\">'MathAdd'</span>,\n",
       "    <span style=\"color: #808000; text-decoration-color: #808000\">expr1</span>=<span style=\"color: #800080; text-decoration-color: #800080; font-weight: bold\">MathMul</span><span style=\"font-weight: bold\">(</span>\n",
       "        <span style=\"color: #808000; text-decoration-color: #808000\">class_</span>=<span style=\"color: #008000; text-decoration-color: #008000\">'MathMul'</span>,\n",
       "        <span style=\"color: #808000; text-decoration-color: #808000\">expr1</span>=<span style=\"color: #800080; text-decoration-color: #800080; font-weight: bold\">MathNum</span><span style=\"font-weight: bold\">(</span><span style=\"color: #808000; text-decoration-color: #808000\">class_</span>=<span style=\"color: #008000; text-decoration-color: #008000\">'MathNum'</span>, <span style=\"color: #808000; text-decoration-color: #808000\">value</span>=<span style=\"color: #008080; text-decoration-color: #008080; font-weight: bold\">2</span><span style=\"font-weight: bold\">)</span>,\n",
       "        <span style=\"color: #808000; text-decoration-color: #808000\">expr2</span>=<span style=\"color: #800080; text-decoration-color: #800080; font-weight: bold\">MathVar</span><span style=\"font-weight: bold\">(</span><span style=\"color: #808000; text-decoration-color: #808000\">class_</span>=<span style=\"color: #008000; text-decoration-color: #008000\">'MathVar'</span>, <span style=\"color: #808000; text-decoration-color: #808000\">name</span>=<span style=\"color: #008000; text-decoration-color: #008000\">'x'</span><span style=\"font-weight: bold\">)</span>\n",
       "    <span style=\"font-weight: bold\">)</span>,\n",
       "    <span style=\"color: #808000; text-decoration-color: #808000\">expr2</span>=<span style=\"color: #800080; text-decoration-color: #800080; font-weight: bold\">MathFunc</span><span style=\"font-weight: bold\">(</span><span style=\"color: #808000; text-decoration-color: #808000\">class_</span>=<span style=\"color: #008000; text-decoration-color: #008000\">'MathFunc'</span>, <span style=\"color: #808000; text-decoration-color: #808000\">func</span>=<span style=\"color: #008000; text-decoration-color: #008000\">'sin'</span>, <span style=\"color: #808000; text-decoration-color: #808000\">expr</span>=<span style=\"color: #800080; text-decoration-color: #800080; font-weight: bold\">MathVar</span><span style=\"font-weight: bold\">(</span><span style=\"color: #808000; text-decoration-color: #808000\">class_</span>=<span style=\"color: #008000; text-decoration-color: #008000\">'MathVar'</span>, <span style=\"color: #808000; text-decoration-color: #808000\">name</span>=<span style=\"color: #008000; text-decoration-color: #008000\">'t'</span><span style=\"font-weight: bold\">))</span>\n",
       "<span style=\"font-weight: bold\">)</span>\n",
       "</pre>\n"
      ],
      "text/plain": [
       "\u001b[1;35mMathAdd\u001b[0m\u001b[1m(\u001b[0m\n",
       "    \u001b[33mclass_\u001b[0m=\u001b[32m'MathAdd'\u001b[0m,\n",
       "    \u001b[33mexpr1\u001b[0m=\u001b[1;35mMathMul\u001b[0m\u001b[1m(\u001b[0m\n",
       "        \u001b[33mclass_\u001b[0m=\u001b[32m'MathMul'\u001b[0m,\n",
       "        \u001b[33mexpr1\u001b[0m=\u001b[1;35mMathNum\u001b[0m\u001b[1m(\u001b[0m\u001b[33mclass_\u001b[0m=\u001b[32m'MathNum'\u001b[0m, \u001b[33mvalue\u001b[0m=\u001b[1;36m2\u001b[0m\u001b[1m)\u001b[0m,\n",
       "        \u001b[33mexpr2\u001b[0m=\u001b[1;35mMathVar\u001b[0m\u001b[1m(\u001b[0m\u001b[33mclass_\u001b[0m=\u001b[32m'MathVar'\u001b[0m, \u001b[33mname\u001b[0m=\u001b[32m'x'\u001b[0m\u001b[1m)\u001b[0m\n",
       "    \u001b[1m)\u001b[0m,\n",
       "    \u001b[33mexpr2\u001b[0m=\u001b[1;35mMathFunc\u001b[0m\u001b[1m(\u001b[0m\u001b[33mclass_\u001b[0m=\u001b[32m'MathFunc'\u001b[0m, \u001b[33mfunc\u001b[0m=\u001b[32m'sin'\u001b[0m, \u001b[33mexpr\u001b[0m=\u001b[1;35mMathVar\u001b[0m\u001b[1m(\u001b[0m\u001b[33mclass_\u001b[0m=\u001b[32m'MathVar'\u001b[0m, \u001b[33mname\u001b[0m=\u001b[32m't'\u001b[0m\u001b[1m)\u001b[0m\u001b[1m)\u001b[0m\n",
       "\u001b[1m)\u001b[0m\n"
      ]
     },
     "metadata": {},
     "output_type": "display_data"
    },
    {
     "data": {
      "text/html": [
       "<pre style=\"white-space:pre;overflow-x:auto;line-height:normal;font-family:Menlo,'DejaVu Sans Mono',consolas,'Courier New',monospace\"><span style=\"color: #800080; text-decoration-color: #800080; font-weight: bold\">MathVar</span><span style=\"font-weight: bold\">(</span><span style=\"color: #808000; text-decoration-color: #808000\">class_</span>=<span style=\"color: #008000; text-decoration-color: #008000\">'MathVar'</span>, <span style=\"color: #808000; text-decoration-color: #808000\">name</span>=<span style=\"color: #008000; text-decoration-color: #008000\">'t'</span><span style=\"font-weight: bold\">)</span>\n",
       "</pre>\n"
      ],
      "text/plain": [
       "\u001b[1;35mMathVar\u001b[0m\u001b[1m(\u001b[0m\u001b[33mclass_\u001b[0m=\u001b[32m'MathVar'\u001b[0m, \u001b[33mname\u001b[0m=\u001b[32m't'\u001b[0m\u001b[1m)\u001b[0m\n"
      ]
     },
     "metadata": {},
     "output_type": "display_data"
    },
    {
     "data": {
      "text/html": [
       "<pre style=\"white-space:pre;overflow-x:auto;line-height:normal;font-family:Menlo,'DejaVu Sans Mono',consolas,'Courier New',monospace\"><span style=\"color: #800080; text-decoration-color: #800080; font-weight: bold\">MathNum</span><span style=\"font-weight: bold\">(</span><span style=\"color: #808000; text-decoration-color: #808000\">class_</span>=<span style=\"color: #008000; text-decoration-color: #008000\">'MathNum'</span>, <span style=\"color: #808000; text-decoration-color: #808000\">value</span>=<span style=\"color: #008080; text-decoration-color: #008080; font-weight: bold\">3.14</span><span style=\"font-weight: bold\">)</span>\n",
       "</pre>\n"
      ],
      "text/plain": [
       "\u001b[1;35mMathNum\u001b[0m\u001b[1m(\u001b[0m\u001b[33mclass_\u001b[0m=\u001b[32m'MathNum'\u001b[0m, \u001b[33mvalue\u001b[0m=\u001b[1;36m3\u001b[0m\u001b[1;36m.14\u001b[0m\u001b[1m)\u001b[0m\n"
      ]
     },
     "metadata": {},
     "output_type": "display_data"
    },
    {
     "data": {
      "text/html": [
       "<pre style=\"white-space:pre;overflow-x:auto;line-height:normal;font-family:Menlo,'DejaVu Sans Mono',consolas,'Courier New',monospace\"><span style=\"color: #800080; text-decoration-color: #800080; font-weight: bold\">MathAdd</span><span style=\"font-weight: bold\">(</span>\n",
       "    <span style=\"color: #808000; text-decoration-color: #808000\">class_</span>=<span style=\"color: #008000; text-decoration-color: #008000\">'MathAdd'</span>,\n",
       "    <span style=\"color: #808000; text-decoration-color: #808000\">expr1</span>=<span style=\"color: #800080; text-decoration-color: #800080; font-weight: bold\">MathAdd</span><span style=\"font-weight: bold\">(</span>\n",
       "        <span style=\"color: #808000; text-decoration-color: #808000\">class_</span>=<span style=\"color: #008000; text-decoration-color: #008000\">'MathAdd'</span>,\n",
       "        <span style=\"color: #808000; text-decoration-color: #808000\">expr1</span>=<span style=\"color: #800080; text-decoration-color: #800080; font-weight: bold\">MathMul</span><span style=\"font-weight: bold\">(</span>\n",
       "            <span style=\"color: #808000; text-decoration-color: #808000\">class_</span>=<span style=\"color: #008000; text-decoration-color: #008000\">'MathMul'</span>,\n",
       "            <span style=\"color: #808000; text-decoration-color: #808000\">expr1</span>=<span style=\"color: #800080; text-decoration-color: #800080; font-weight: bold\">MathNum</span><span style=\"font-weight: bold\">(</span><span style=\"color: #808000; text-decoration-color: #808000\">class_</span>=<span style=\"color: #008000; text-decoration-color: #008000\">'MathNum'</span>, <span style=\"color: #808000; text-decoration-color: #808000\">value</span>=<span style=\"color: #008080; text-decoration-color: #008080; font-weight: bold\">2</span><span style=\"font-weight: bold\">)</span>,\n",
       "            <span style=\"color: #808000; text-decoration-color: #808000\">expr2</span>=<span style=\"color: #800080; text-decoration-color: #800080; font-weight: bold\">MathVar</span><span style=\"font-weight: bold\">(</span><span style=\"color: #808000; text-decoration-color: #808000\">class_</span>=<span style=\"color: #008000; text-decoration-color: #008000\">'MathVar'</span>, <span style=\"color: #808000; text-decoration-color: #808000\">name</span>=<span style=\"color: #008000; text-decoration-color: #008000\">'x'</span><span style=\"font-weight: bold\">)</span>\n",
       "        <span style=\"font-weight: bold\">)</span>,\n",
       "        <span style=\"color: #808000; text-decoration-color: #808000\">expr2</span>=<span style=\"color: #800080; text-decoration-color: #800080; font-weight: bold\">MathFunc</span><span style=\"font-weight: bold\">(</span><span style=\"color: #808000; text-decoration-color: #808000\">class_</span>=<span style=\"color: #008000; text-decoration-color: #008000\">'MathFunc'</span>, <span style=\"color: #808000; text-decoration-color: #808000\">func</span>=<span style=\"color: #008000; text-decoration-color: #008000\">'sin'</span>, <span style=\"color: #808000; text-decoration-color: #808000\">expr</span>=<span style=\"color: #800080; text-decoration-color: #800080; font-weight: bold\">MathVar</span><span style=\"font-weight: bold\">(</span><span style=\"color: #808000; text-decoration-color: #808000\">class_</span>=<span style=\"color: #008000; text-decoration-color: #008000\">'MathVar'</span>, <span style=\"color: #808000; text-decoration-color: #808000\">name</span>=<span style=\"color: #008000; text-decoration-color: #008000\">'t'</span><span style=\"font-weight: bold\">))</span>\n",
       "    <span style=\"font-weight: bold\">)</span>,\n",
       "    <span style=\"color: #808000; text-decoration-color: #808000\">expr2</span>=<span style=\"color: #800080; text-decoration-color: #800080; font-weight: bold\">MathNum</span><span style=\"font-weight: bold\">(</span><span style=\"color: #808000; text-decoration-color: #808000\">class_</span>=<span style=\"color: #008000; text-decoration-color: #008000\">'MathNum'</span>, <span style=\"color: #808000; text-decoration-color: #808000\">value</span>=<span style=\"color: #008080; text-decoration-color: #008080; font-weight: bold\">3.14</span><span style=\"font-weight: bold\">)</span>\n",
       "<span style=\"font-weight: bold\">)</span>\n",
       "</pre>\n"
      ],
      "text/plain": [
       "\u001b[1;35mMathAdd\u001b[0m\u001b[1m(\u001b[0m\n",
       "    \u001b[33mclass_\u001b[0m=\u001b[32m'MathAdd'\u001b[0m,\n",
       "    \u001b[33mexpr1\u001b[0m=\u001b[1;35mMathAdd\u001b[0m\u001b[1m(\u001b[0m\n",
       "        \u001b[33mclass_\u001b[0m=\u001b[32m'MathAdd'\u001b[0m,\n",
       "        \u001b[33mexpr1\u001b[0m=\u001b[1;35mMathMul\u001b[0m\u001b[1m(\u001b[0m\n",
       "            \u001b[33mclass_\u001b[0m=\u001b[32m'MathMul'\u001b[0m,\n",
       "            \u001b[33mexpr1\u001b[0m=\u001b[1;35mMathNum\u001b[0m\u001b[1m(\u001b[0m\u001b[33mclass_\u001b[0m=\u001b[32m'MathNum'\u001b[0m, \u001b[33mvalue\u001b[0m=\u001b[1;36m2\u001b[0m\u001b[1m)\u001b[0m,\n",
       "            \u001b[33mexpr2\u001b[0m=\u001b[1;35mMathVar\u001b[0m\u001b[1m(\u001b[0m\u001b[33mclass_\u001b[0m=\u001b[32m'MathVar'\u001b[0m, \u001b[33mname\u001b[0m=\u001b[32m'x'\u001b[0m\u001b[1m)\u001b[0m\n",
       "        \u001b[1m)\u001b[0m,\n",
       "        \u001b[33mexpr2\u001b[0m=\u001b[1;35mMathFunc\u001b[0m\u001b[1m(\u001b[0m\u001b[33mclass_\u001b[0m=\u001b[32m'MathFunc'\u001b[0m, \u001b[33mfunc\u001b[0m=\u001b[32m'sin'\u001b[0m, \u001b[33mexpr\u001b[0m=\u001b[1;35mMathVar\u001b[0m\u001b[1m(\u001b[0m\u001b[33mclass_\u001b[0m=\u001b[32m'MathVar'\u001b[0m, \u001b[33mname\u001b[0m=\u001b[32m't'\u001b[0m\u001b[1m)\u001b[0m\u001b[1m)\u001b[0m\n",
       "    \u001b[1m)\u001b[0m,\n",
       "    \u001b[33mexpr2\u001b[0m=\u001b[1;35mMathNum\u001b[0m\u001b[1m(\u001b[0m\u001b[33mclass_\u001b[0m=\u001b[32m'MathNum'\u001b[0m, \u001b[33mvalue\u001b[0m=\u001b[1;36m3\u001b[0m\u001b[1;36m.14\u001b[0m\u001b[1m)\u001b[0m\n",
       "\u001b[1m)\u001b[0m\n"
      ]
     },
     "metadata": {},
     "output_type": "display_data"
    }
   ],
   "source": [
    "from oqd_core.interface.math import MathStr, MathVar, MathNum\n",
    "from rich import print as pprint\n",
    "\n",
    "exp1 = MathStr(string=\"2*x + sin(t)\")\n",
    "\n",
    "var = MathVar(name=\"t\")\n",
    "\n",
    "num = MathNum(value=3.14)\n",
    "\n",
    "combine = exp1 + num\n",
    "\n",
    "pprint(exp1)\n",
    "pprint(var)\n",
    "pprint(num)\n",
    "pprint(combine)"
   ]
  },
  {
   "cell_type": "code",
   "execution_count": 26,
   "metadata": {},
   "outputs": [
    {
     "name": "stdout",
     "output_type": "stream",
     "text": [
      "2 * x + sin(t)\n",
      "t\n",
      "3.14\n",
      "2 * x + sin(t) + 3.14\n"
     ]
    }
   ],
   "source": [
    "from oqd_core.compiler.math.rules import PrintMathExpr\n",
    "from oqd_compiler_infrastructure import Post\n",
    "\n",
    "printer = Post(PrintMathExpr())\n",
    "readable_exp1 = printer(exp1)\n",
    "readable_var = printer(var)\n",
    "readable_num = printer(num)\n",
    "readable_combine = printer(combine)\n",
    "\n",
    "print(readable_exp1)\n",
    "print(readable_var)\n",
    "print(readable_num)\n",
    "print(readable_combine)"
   ]
  },
  {
   "cell_type": "code",
   "execution_count": 25,
   "metadata": {},
   "outputs": [
    {
     "data": {
      "text/html": [
       "<pre style=\"white-space:pre;overflow-x:auto;line-height:normal;font-family:Menlo,'DejaVu Sans Mono',consolas,'Courier New',monospace\"><span style=\"color: #800080; text-decoration-color: #800080; font-weight: bold\">OperatorAdd</span><span style=\"font-weight: bold\">(</span>\n",
       "    <span style=\"color: #808000; text-decoration-color: #808000\">class_</span>=<span style=\"color: #008000; text-decoration-color: #008000\">'OperatorAdd'</span>,\n",
       "    <span style=\"color: #808000; text-decoration-color: #808000\">op1</span>=<span style=\"color: #800080; text-decoration-color: #800080; font-weight: bold\">OperatorScalarMul</span><span style=\"font-weight: bold\">(</span>\n",
       "        <span style=\"color: #808000; text-decoration-color: #808000\">class_</span>=<span style=\"color: #008000; text-decoration-color: #008000\">'OperatorScalarMul'</span>,\n",
       "        <span style=\"color: #808000; text-decoration-color: #808000\">op</span>=<span style=\"color: #800080; text-decoration-color: #800080; font-weight: bold\">PauliX</span><span style=\"font-weight: bold\">(</span><span style=\"color: #808000; text-decoration-color: #808000\">class_</span>=<span style=\"color: #008000; text-decoration-color: #008000\">'PauliX'</span><span style=\"font-weight: bold\">)</span>,\n",
       "        <span style=\"color: #808000; text-decoration-color: #808000\">expr</span>=<span style=\"color: #800080; text-decoration-color: #800080; font-weight: bold\">MathFunc</span><span style=\"font-weight: bold\">(</span><span style=\"color: #808000; text-decoration-color: #808000\">class_</span>=<span style=\"color: #008000; text-decoration-color: #008000\">'MathFunc'</span>, <span style=\"color: #808000; text-decoration-color: #808000\">func</span>=<span style=\"color: #008000; text-decoration-color: #008000\">'sin'</span>, <span style=\"color: #808000; text-decoration-color: #808000\">expr</span>=<span style=\"color: #800080; text-decoration-color: #800080; font-weight: bold\">MathVar</span><span style=\"font-weight: bold\">(</span><span style=\"color: #808000; text-decoration-color: #808000\">class_</span>=<span style=\"color: #008000; text-decoration-color: #008000\">'MathVar'</span>, <span style=\"color: #808000; text-decoration-color: #808000\">name</span>=<span style=\"color: #008000; text-decoration-color: #008000\">'t'</span><span style=\"font-weight: bold\">))</span>\n",
       "    <span style=\"font-weight: bold\">)</span>,\n",
       "    <span style=\"color: #808000; text-decoration-color: #808000\">op2</span>=<span style=\"color: #800080; text-decoration-color: #800080; font-weight: bold\">OperatorScalarMul</span><span style=\"font-weight: bold\">(</span>\n",
       "        <span style=\"color: #808000; text-decoration-color: #808000\">class_</span>=<span style=\"color: #008000; text-decoration-color: #008000\">'OperatorScalarMul'</span>,\n",
       "        <span style=\"color: #808000; text-decoration-color: #808000\">op</span>=<span style=\"color: #800080; text-decoration-color: #800080; font-weight: bold\">PauliZ</span><span style=\"font-weight: bold\">(</span><span style=\"color: #808000; text-decoration-color: #808000\">class_</span>=<span style=\"color: #008000; text-decoration-color: #008000\">'PauliZ'</span><span style=\"font-weight: bold\">)</span>,\n",
       "        <span style=\"color: #808000; text-decoration-color: #808000\">expr</span>=<span style=\"color: #800080; text-decoration-color: #800080; font-weight: bold\">MathFunc</span><span style=\"font-weight: bold\">(</span><span style=\"color: #808000; text-decoration-color: #808000\">class_</span>=<span style=\"color: #008000; text-decoration-color: #008000\">'MathFunc'</span>, <span style=\"color: #808000; text-decoration-color: #808000\">func</span>=<span style=\"color: #008000; text-decoration-color: #008000\">'cos'</span>, <span style=\"color: #808000; text-decoration-color: #808000\">expr</span>=<span style=\"color: #800080; text-decoration-color: #800080; font-weight: bold\">MathVar</span><span style=\"font-weight: bold\">(</span><span style=\"color: #808000; text-decoration-color: #808000\">class_</span>=<span style=\"color: #008000; text-decoration-color: #008000\">'MathVar'</span>, <span style=\"color: #808000; text-decoration-color: #808000\">name</span>=<span style=\"color: #008000; text-decoration-color: #008000\">'t'</span><span style=\"font-weight: bold\">))</span>\n",
       "    <span style=\"font-weight: bold\">)</span>\n",
       "<span style=\"font-weight: bold\">)</span>\n",
       "</pre>\n"
      ],
      "text/plain": [
       "\u001b[1;35mOperatorAdd\u001b[0m\u001b[1m(\u001b[0m\n",
       "    \u001b[33mclass_\u001b[0m=\u001b[32m'OperatorAdd'\u001b[0m,\n",
       "    \u001b[33mop1\u001b[0m=\u001b[1;35mOperatorScalarMul\u001b[0m\u001b[1m(\u001b[0m\n",
       "        \u001b[33mclass_\u001b[0m=\u001b[32m'OperatorScalarMul'\u001b[0m,\n",
       "        \u001b[33mop\u001b[0m=\u001b[1;35mPauliX\u001b[0m\u001b[1m(\u001b[0m\u001b[33mclass_\u001b[0m=\u001b[32m'PauliX'\u001b[0m\u001b[1m)\u001b[0m,\n",
       "        \u001b[33mexpr\u001b[0m=\u001b[1;35mMathFunc\u001b[0m\u001b[1m(\u001b[0m\u001b[33mclass_\u001b[0m=\u001b[32m'MathFunc'\u001b[0m, \u001b[33mfunc\u001b[0m=\u001b[32m'sin'\u001b[0m, \u001b[33mexpr\u001b[0m=\u001b[1;35mMathVar\u001b[0m\u001b[1m(\u001b[0m\u001b[33mclass_\u001b[0m=\u001b[32m'MathVar'\u001b[0m, \u001b[33mname\u001b[0m=\u001b[32m't'\u001b[0m\u001b[1m)\u001b[0m\u001b[1m)\u001b[0m\n",
       "    \u001b[1m)\u001b[0m,\n",
       "    \u001b[33mop2\u001b[0m=\u001b[1;35mOperatorScalarMul\u001b[0m\u001b[1m(\u001b[0m\n",
       "        \u001b[33mclass_\u001b[0m=\u001b[32m'OperatorScalarMul'\u001b[0m,\n",
       "        \u001b[33mop\u001b[0m=\u001b[1;35mPauliZ\u001b[0m\u001b[1m(\u001b[0m\u001b[33mclass_\u001b[0m=\u001b[32m'PauliZ'\u001b[0m\u001b[1m)\u001b[0m,\n",
       "        \u001b[33mexpr\u001b[0m=\u001b[1;35mMathFunc\u001b[0m\u001b[1m(\u001b[0m\u001b[33mclass_\u001b[0m=\u001b[32m'MathFunc'\u001b[0m, \u001b[33mfunc\u001b[0m=\u001b[32m'cos'\u001b[0m, \u001b[33mexpr\u001b[0m=\u001b[1;35mMathVar\u001b[0m\u001b[1m(\u001b[0m\u001b[33mclass_\u001b[0m=\u001b[32m'MathVar'\u001b[0m, \u001b[33mname\u001b[0m=\u001b[32m't'\u001b[0m\u001b[1m)\u001b[0m\u001b[1m)\u001b[0m\n",
       "    \u001b[1m)\u001b[0m\n",
       "\u001b[1m)\u001b[0m\n"
      ]
     },
     "metadata": {},
     "output_type": "display_data"
    }
   ],
   "source": [
    "hamiltonian = MathStr(string=\"sin(t)\") * X + MathStr(string=\"cos(t)\") * Z\n",
    "pprint(hamiltonian)"
   ]
  }
 ],
 "metadata": {
  "kernelspec": {
   "display_name": ".venv",
   "language": "python",
   "name": "python3"
  },
  "language_info": {
   "codemirror_mode": {
    "name": "ipython",
    "version": 3
   },
   "file_extension": ".py",
   "mimetype": "text/x-python",
   "name": "python",
   "nbconvert_exporter": "python",
   "pygments_lexer": "ipython3",
   "version": "3.12.3"
  }
 },
 "nbformat": 4,
 "nbformat_minor": 2
}
