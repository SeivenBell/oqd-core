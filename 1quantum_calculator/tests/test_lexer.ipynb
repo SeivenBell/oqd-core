{
 "cells": [
  {
   "cell_type": "code",
   "execution_count": 4,
   "metadata": {},
   "outputs": [
    {
     "name": "stdout",
     "output_type": "stream",
     "text": [
      "\n",
      "Tokenizing: 2+3\n",
      "  TokenType.NUMBER: '2' (2)\n",
      "  TokenType.PLUS: '+'\n",
      "  TokenType.NUMBER: '3' (3)\n",
      "  TokenType.EOF: ''\n",
      "\n",
      "Tokenizing: 4 * 5\n",
      "  TokenType.NUMBER: '4' (4)\n",
      "  TokenType.MULTIPLY: '*'\n",
      "  TokenType.NUMBER: '5' (5)\n",
      "  TokenType.EOF: ''\n",
      "\n",
      "Tokenizing: 6 + 7 * 8\n",
      "  TokenType.NUMBER: '6' (6)\n",
      "  TokenType.PLUS: '+'\n",
      "  TokenType.NUMBER: '7' (7)\n",
      "  TokenType.MULTIPLY: '*'\n",
      "  TokenType.NUMBER: '8' (8)\n",
      "  TokenType.EOF: ''\n",
      "\n",
      "Tokenizing: (9 + 10) * 11\n",
      "  TokenType.LPAREN: '('\n",
      "  TokenType.NUMBER: '9' (9)\n",
      "  TokenType.PLUS: '+'\n",
      "  TokenType.NUMBER: '10' (10)\n",
      "  TokenType.RPAREN: ')'\n",
      "  TokenType.MULTIPLY: '*'\n",
      "  TokenType.NUMBER: '11' (11)\n",
      "  TokenType.EOF: ''\n"
     ]
    }
   ],
   "source": [
    "from lexer import Lexer, TokenType, Token\n",
    "from rich import print as pprint\n",
    "\n",
    "\n",
    "def test_lexer():\n",
    "    test_cases = [\"2+3\", \"4 * 5\", \"6 + 7 * 8\", \"(9 + 10) * 11\"]\n",
    "\n",
    "    for test_input in test_cases:\n",
    "        print(f\"\\nTokenizing: {test_input}\")\n",
    "        lexer = Lexer(test_input)\n",
    "        tokens = lexer.scan_tokens()\n",
    "\n",
    "        for token in tokens:\n",
    "            print(f\"  {token}\")\n",
    "\n",
    "\n",
    "if __name__ == \"__main__\":\n",
    "    test_lexer()"
   ]
  }
 ],
 "metadata": {
  "kernelspec": {
   "display_name": ".venv",
   "language": "python",
   "name": "python3"
  },
  "language_info": {
   "codemirror_mode": {
    "name": "ipython",
    "version": 3
   },
   "file_extension": ".py",
   "mimetype": "text/x-python",
   "name": "python",
   "nbconvert_exporter": "python",
   "pygments_lexer": "ipython3",
   "version": "3.12.3"
  }
 },
 "nbformat": 4,
 "nbformat_minor": 2
}
